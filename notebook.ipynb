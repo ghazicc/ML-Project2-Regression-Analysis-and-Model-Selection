{
  "cells": [
    {
      "cell_type": "markdown",
      "metadata": {
        "id": "view-in-github",
        "colab_type": "text"
      },
      "source": [
        "<a href=\"https://colab.research.google.com/github/ghazicc/ML-Project2-Regression-Analysis-and-Model-Selection/blob/main/notebook.ipynb\" target=\"_parent\"><img src=\"https://colab.research.google.com/assets/colab-badge.svg\" alt=\"Open In Colab\"/></a>"
      ]
    },
    {
      "cell_type": "markdown",
      "metadata": {
        "id": "B7pa1MSb5wT7"
      },
      "source": [
        "# Import Libraries"
      ]
    },
    {
      "cell_type": "code",
      "execution_count": 4,
      "metadata": {
        "id": "dbpU7iao5vNB"
      },
      "outputs": [],
      "source": [
        "import pandas as pd\n",
        "import matplotlib\n",
        "import matplotlib.pyplot as plt\n",
        "import seaborn as sns\n",
        "import numpy as np\n",
        "from sklearn.preprocessing import MinMaxScaler, StandardScaler\n",
        "from sklearn.model_selection import train_test_split, GridSearchCV\n",
        "from sklearn.linear_model import LinearRegression, Lasso, Ridge\n",
        "from sklearn.metrics import mean_absolute_error, mean_squared_error, r2_score\n",
        "from sklearn.preprocessing import PolynomialFeatures\n",
        "from sklearn.svm import SVR\n",
        "import scipy.stats as stats"
      ]
    },
    {
      "cell_type": "code",
      "execution_count": 46,
      "metadata": {
        "colab": {
          "base_uri": "https://localhost:8080/"
        },
        "id": "UjyCcgdn4WjM",
        "outputId": "c99d505b-2134-47c8-f1ee-7f76323e4dc0"
      },
      "outputs": [
        {
          "output_type": "stream",
          "name": "stderr",
          "text": [
            "<ipython-input-46-f2234227be1b>:19: FutureWarning: A value is trying to be set on a copy of a DataFrame or Series through chained assignment using an inplace method.\n",
            "The behavior will change in pandas 3.0. This inplace method will never work because the intermediate object on which we are setting values always behaves as a copy.\n",
            "\n",
            "For example, when doing 'df[col].method(value, inplace=True)', try using 'df.method({col: value}, inplace=True)' or df[col] = df[col].method(value) instead, to perform the operation inplace on the original object.\n",
            "\n",
            "\n",
            "  mean_imputed['cylinder'].fillna(mean_imputed['cylinder'].mean(), inplace=True)\n",
            "<ipython-input-46-f2234227be1b>:39: FutureWarning: A value is trying to be set on a copy of a DataFrame or Series through chained assignment using an inplace method.\n",
            "The behavior will change in pandas 3.0. This inplace method will never work because the intermediate object on which we are setting values always behaves as a copy.\n",
            "\n",
            "For example, when doing 'df[col].method(value, inplace=True)', try using 'df.method({col: value}, inplace=True)' or df[col] = df[col].method(value) instead, to perform the operation inplace on the original object.\n",
            "\n",
            "\n",
            "  pf['engine_capacity'].fillna(pf['engine_capacity'].mean(), inplace=True)\n",
            "<ipython-input-46-f2234227be1b>:39: FutureWarning: Downcasting object dtype arrays on .fillna, .ffill, .bfill is deprecated and will change in a future version. Call result.infer_objects(copy=False) instead. To opt-in to the future behavior, set `pd.set_option('future.no_silent_downcasting', True)`\n",
            "  pf['engine_capacity'].fillna(pf['engine_capacity'].mean(), inplace=True)\n",
            "<ipython-input-46-f2234227be1b>:81: FutureWarning: A value is trying to be set on a copy of a DataFrame or Series through chained assignment using an inplace method.\n",
            "The behavior will change in pandas 3.0. This inplace method will never work because the intermediate object on which we are setting values always behaves as a copy.\n",
            "\n",
            "For example, when doing 'df[col].method(value, inplace=True)', try using 'df.method({col: value}, inplace=True)' or df[col] = df[col].method(value) instead, to perform the operation inplace on the original object.\n",
            "\n",
            "\n",
            "  pf['seats'].fillna(pf['seats'].median(), inplace=True)\n",
            "<ipython-input-46-f2234227be1b>:81: FutureWarning: Downcasting object dtype arrays on .fillna, .ffill, .bfill is deprecated and will change in a future version. Call result.infer_objects(copy=False) instead. To opt-in to the future behavior, set `pd.set_option('future.no_silent_downcasting', True)`\n",
            "  pf['seats'].fillna(pf['seats'].median(), inplace=True)\n",
            "<ipython-input-46-f2234227be1b>:114: FutureWarning: Downcasting object dtype arrays on .fillna, .ffill, .bfill is deprecated and will change in a future version. Call result.infer_objects(copy=False) instead. To opt-in to the future behavior, set `pd.set_option('future.no_silent_downcasting', True)`\n",
            "  pf['top_speed'] = pf['top_speed'].fillna(topspeed_brand_mean) #filling each car with the mean price based on its brand.\n",
            "<ipython-input-46-f2234227be1b>:117: FutureWarning: Downcasting object dtype arrays on .fillna, .ffill, .bfill is deprecated and will change in a future version. Call result.infer_objects(copy=False) instead. To opt-in to the future behavior, set `pd.set_option('future.no_silent_downcasting', True)`\n",
            "  pf['horse_power'] = pf['horse_power'].fillna(hp_brand_mean) #filling each car with the mean price based on its brand.\n"
          ]
        },
        {
          "output_type": "stream",
          "name": "stdout",
          "text": [
            "Skewness of all numerical columns:\n",
            "engine_capacity    0.731375\n",
            "cylinder           1.428883\n",
            "horse_power        7.118156\n",
            "top_speed          2.846072\n",
            "seats              1.534536\n",
            "brand              0.388433\n",
            "dtype: float64\n"
          ]
        },
        {
          "output_type": "stream",
          "name": "stderr",
          "text": [
            "<ipython-input-46-f2234227be1b>:170: FutureWarning: Downcasting object dtype arrays on .fillna, .ffill, .bfill is deprecated and will change in a future version. Call result.infer_objects(copy=False) instead. To opt-in to the future behavior, set `pd.set_option('future.no_silent_downcasting', True)`\n",
            "  pf['price'] = pf['price'].fillna(brand_mean_price) #filling each car with the mean price based on its brand.\n"
          ]
        }
      ],
      "source": [
        "# print(pf.info()) #to print general info about the csv.\n",
        "pf = pd.read_csv('cars.csv') #reading csv file.\n",
        "pf = pf.drop('car name',axis=1)\n",
        "\n",
        "\n",
        "\n",
        "mean_imputed = pf.copy()\n",
        "# to clean dirty entries from cylinder column.\n",
        "\n",
        "x =mean_imputed['cylinder'].unique()\n",
        "\n",
        "for i in x:\n",
        "    if isinstance(i,float) == False: #python descirdbe nan as float.\n",
        "        if i.isnumeric() == False: #if the entry was string, replace it with null to replace it with the mean.\n",
        "            mean_imputed.replace(i,None,inplace=True)\n",
        "\n",
        "mean_imputed['cylinder'] = pd.to_numeric(mean_imputed['cylinder'], errors='coerce')\n",
        "\n",
        "mean_imputed['cylinder'].fillna(mean_imputed['cylinder'].mean(), inplace=True)\n",
        "pf= mean_imputed.copy()\n",
        "del mean_imputed\n",
        "\n",
        "#cylinder column now is clean.\n",
        "#--------------------------------------------------------------------------------------------\n",
        "\n",
        "#print(pf['engine_capacity'].unique()) #From this, I know that there are two types of dirty data in this column: 'cylinder' and large numbers such as 3000.\n",
        "index = -1\n",
        "\n",
        "for row in pf['engine_capacity']:\n",
        "    index +=1\n",
        "    if row == 'Cylinders':\n",
        "        pf.loc[index,\"engine_capacity\"]= None\n",
        "    elif i.isnumeric:\n",
        "        if int(float(row)) > 20:\n",
        "          pf.loc[index,\"engine_capacity\"]= None\n",
        "        else:\n",
        "          pf.loc[index,\"engine_capacity\"]= round(float(row),3)\n",
        "\n",
        "pf['engine_capacity'].fillna(pf['engine_capacity'].mean(), inplace=True)\n",
        "\n",
        "\n",
        "\n",
        "#engine capacity done.\n",
        "#--------------------------------------------------------------------------------------------\n",
        "\n",
        "#print(pf['horse_power'].unique())\n",
        "\n",
        "index = -1\n",
        "for row in pf['horse_power']:\n",
        "    index+=1\n",
        "    if 'Single' in row or 'Double' in row or 'Triple' in row or 'Horsepower (bhp)' in row:\n",
        "\n",
        "        pf.loc[index,'horse_power']=None\n",
        "    else:\n",
        "        pf.loc[index,'horse_power']=int(row)\n",
        "\n",
        "# pf['horse_power'].fillna(pf['horse_power'].mean(), inplace=True)\n",
        "\n",
        "\n",
        "\n",
        "#-------------------------------------------------------------\n",
        "#Now i need to check and clean topspeed and seats coloumns\n",
        "#if seates is bigger than 100, transfer this value to topspeed, and put None insted of it.\n",
        "# print(pf['seats'].unique())\n",
        "index = -1\n",
        "num=''\n",
        "for row in pf['seats']:\n",
        "    index +=1\n",
        "    if len(row) <= 4 and row!= 'N A':\n",
        "        if int(float(row)) > 60:\n",
        "            pf.loc[index,\"top_speed\"]=int(row)\n",
        "            pf.loc[index,\"seats\"]=None\n",
        "        elif int(float(row)) < 60:\n",
        "            pf.loc[index,\"seats\"]=None\n",
        "    elif 'Seater' in row:#if it contains 'seater' that's mean that this is a real number of seats.\n",
        "            num = row[:2]\n",
        "            pf.loc[index,\"seats\"]=int(num)\n",
        "    else:\n",
        "        pf.loc[index,\"seats\"]=None\n",
        "\n",
        "pf['seats'].fillna(pf['seats'].median(), inplace=True)\n",
        "\n",
        "#---------------------------------------------------------------------------\n",
        "#top_speed\n",
        "#this column contains string, seats, and numbers.\n",
        "#seats must be transfered to 'seats' coloumn.\n",
        "#strings must be discarded, numbers are good!!\n",
        "index = -1\n",
        "for row in pf['top_speed']:\n",
        "    index+=1\n",
        "    if 'Seater' in str(row):\n",
        "        num = row[:2]\n",
        "        pf.loc[index,\"seats\"]=int(num)\n",
        "        pf.loc[index,'top_speed']=None\n",
        "    elif str(row).isnumeric() == False:\n",
        "        pf.loc[index,'top_speed']=None\n",
        "    else:\n",
        "        pf.loc[index,'top_speed']=int(row)\n",
        "\n",
        "# pf['top_speed'].fillna(int(pf['top_speed'].mean()), inplace=True)#221 insted of 221.22....\n",
        "\n",
        "\n",
        "#hot encoding to country and brand, and normalize the price to\n",
        "# print(pf['brand'].unique())\n",
        "one_hot_encoded = pd.get_dummies(pf, columns=['country'])\n",
        "pf = one_hot_encoded.copy()\n",
        "del one_hot_encoded\n",
        "\n",
        "# frequency-encode the brand feature, since one-hot encoding results in high dimensional sparse feature space\n",
        "freq_encoding = pf['brand'].value_counts()\n",
        "pf['brand'] = pf['brand'].map(freq_encoding)\n",
        "\n",
        "topspeed_brand_mean = pf.groupby('brand')['top_speed'].transform('mean')\n",
        "pf['top_speed'] = pf['top_speed'].fillna(topspeed_brand_mean) #filling each car with the mean price based on its brand.\n",
        "\n",
        "hp_brand_mean = pf.groupby('brand')['horse_power'].transform('mean')\n",
        "pf['horse_power'] = pf['horse_power'].fillna(hp_brand_mean) #filling each car with the mean price based on its brand.\n",
        "\n",
        "\n",
        "#--------------------------------------------------------------------------------------------\n",
        "#changing all prices to USD with cleaning and filling the dirty with the mean.\n",
        "\n",
        "# print(len(pd.unique(pf['price']))) # i noticed from this, that i can't use replace(row,new) in the for loop, because there is just 3350 uniqe value from 6300.\n",
        "\n",
        "#pf.loc[1,'price']='moath' #I can use this to replace the value.\n",
        "\n",
        "#Change the prices to USD and clean the dirty entries\n",
        "index =-1\n",
        "for row in pf['price']:\n",
        "    index+=1\n",
        "    if 'SAR' in row:\n",
        "        pf.loc[index,\"price\"]=int(row[4:].replace(',','')) * 0.27\n",
        "\n",
        "    elif 'EGP' in row:\n",
        "        pf.loc[index,\"price\"]=int(row[4:].replace(',','')) * 0.02\n",
        "\n",
        "    elif 'BHD' in row:\n",
        "        pf.loc[index,\"price\"]=int(row[4:].replace(',','')) * 2.65\n",
        "\n",
        "    elif 'QAR' in row:\n",
        "        pf.loc[index,\"price\"]=int(row[4:].replace(',','')) * 0.27\n",
        "\n",
        "    elif 'OMR' in row:\n",
        "        pf.loc[index,\"price\"]=int(row[4:].replace(',','')) * 2.6\n",
        "\n",
        "    elif 'KWD' in row:\n",
        "        pf.loc[index,\"price\"]=int(row[4:].replace(',','')) * 3.25\n",
        "\n",
        "    elif 'AED' in row:\n",
        "        pf.loc[index,\"price\"]=int(row[4:].replace(',','')) * 0.27\n",
        "\n",
        "    else:\n",
        "        pf.loc[index,\"price\"]=None\n",
        "\n",
        "\n",
        "#fill the null values with the mean of the coloumn.\n",
        "# pf['price'].fillna(pf['price'].mean(), inplace=True)\n",
        "\n",
        "\n",
        "# Calculate skewness for all numerical columns\n",
        "skewness = pf.select_dtypes(include=np.number).apply(stats.skew)\n",
        "\n",
        "# Print the skewness values\n",
        "print(\"Skewness of all numerical columns:\")\n",
        "print(skewness)\n",
        "\n",
        "optional_target = pf['top_speed']\n",
        "\n",
        "brand_mean_price = pf.groupby('brand')['price'].transform('mean')\n",
        "pf['price'] = pf['price'].fillna(brand_mean_price) #filling each car with the mean price based on its brand.\n",
        "\n",
        "#normalize the price, horsepower, and top_speed from 0 to 10\n",
        "pf[['top_speed', 'horse_power', 'seats','cylinder']] = MinMaxScaler(feature_range=(0, 1)).fit_transform(pf[['top_speed', 'horse_power', 'seats','cylinder']])\n",
        "\n",
        "# perform standardization on top speed and horse power\n",
        "scaler = StandardScaler()\n",
        "pf[['engine_capacity', 'brand']] = scaler.fit_transform(pf[['engine_capacity', 'brand']])"
      ]
    },
    {
      "cell_type": "code",
      "source": [
        "pf.describe()"
      ],
      "metadata": {
        "colab": {
          "base_uri": "https://localhost:8080/",
          "height": 320
        },
        "id": "aI9lJYKZPtV_",
        "outputId": "0e760a86-65d9-4d15-acda-8336b5a28140"
      },
      "execution_count": 7,
      "outputs": [
        {
          "output_type": "execute_result",
          "data": {
            "text/plain": [
              "              price  engine_capacity     cylinder  horse_power    top_speed  \\\n",
              "count  6.308000e+03     6.308000e+03  6308.000000  6308.000000  6308.000000   \n",
              "mean   7.096518e+04    -3.153963e-16     0.184014     0.055503     0.159468   \n",
              "std    1.006358e+05     1.000079e+00     0.135814     0.035425     0.053942   \n",
              "min    2.880000e+03    -2.160678e+00     0.000000     0.000000     0.000000   \n",
              "25%    2.690516e+04    -6.535600e-01     0.076923     0.030965     0.118510   \n",
              "50%    4.374114e+04    -1.260686e-01     0.184014     0.048035     0.146727   \n",
              "75%    8.241812e+04     4.767786e-01     0.230769     0.070464     0.191874   \n",
              "max    3.594996e+06     3.867795e+00     1.000000     1.000000     1.000000   \n",
              "\n",
              "             seats         brand  \n",
              "count  6308.000000  6.308000e+03  \n",
              "mean      0.189739  1.126415e-17  \n",
              "std       0.094811  1.000079e+00  \n",
              "min       0.000000 -1.447388e+00  \n",
              "25%       0.187500 -9.969977e-01  \n",
              "50%       0.187500 -4.685980e-02  \n",
              "75%       0.187500  8.785992e-01  \n",
              "max       1.000000  2.001489e+00  "
            ],
            "text/html": [
              "\n",
              "  <div id=\"df-b550648b-85d4-417c-bbcb-0ca397e0f2ee\" class=\"colab-df-container\">\n",
              "    <div>\n",
              "<style scoped>\n",
              "    .dataframe tbody tr th:only-of-type {\n",
              "        vertical-align: middle;\n",
              "    }\n",
              "\n",
              "    .dataframe tbody tr th {\n",
              "        vertical-align: top;\n",
              "    }\n",
              "\n",
              "    .dataframe thead th {\n",
              "        text-align: right;\n",
              "    }\n",
              "</style>\n",
              "<table border=\"1\" class=\"dataframe\">\n",
              "  <thead>\n",
              "    <tr style=\"text-align: right;\">\n",
              "      <th></th>\n",
              "      <th>price</th>\n",
              "      <th>engine_capacity</th>\n",
              "      <th>cylinder</th>\n",
              "      <th>horse_power</th>\n",
              "      <th>top_speed</th>\n",
              "      <th>seats</th>\n",
              "      <th>brand</th>\n",
              "    </tr>\n",
              "  </thead>\n",
              "  <tbody>\n",
              "    <tr>\n",
              "      <th>count</th>\n",
              "      <td>6.308000e+03</td>\n",
              "      <td>6.308000e+03</td>\n",
              "      <td>6308.000000</td>\n",
              "      <td>6308.000000</td>\n",
              "      <td>6308.000000</td>\n",
              "      <td>6308.000000</td>\n",
              "      <td>6.308000e+03</td>\n",
              "    </tr>\n",
              "    <tr>\n",
              "      <th>mean</th>\n",
              "      <td>7.096518e+04</td>\n",
              "      <td>-3.153963e-16</td>\n",
              "      <td>0.184014</td>\n",
              "      <td>0.055503</td>\n",
              "      <td>0.159468</td>\n",
              "      <td>0.189739</td>\n",
              "      <td>1.126415e-17</td>\n",
              "    </tr>\n",
              "    <tr>\n",
              "      <th>std</th>\n",
              "      <td>1.006358e+05</td>\n",
              "      <td>1.000079e+00</td>\n",
              "      <td>0.135814</td>\n",
              "      <td>0.035425</td>\n",
              "      <td>0.053942</td>\n",
              "      <td>0.094811</td>\n",
              "      <td>1.000079e+00</td>\n",
              "    </tr>\n",
              "    <tr>\n",
              "      <th>min</th>\n",
              "      <td>2.880000e+03</td>\n",
              "      <td>-2.160678e+00</td>\n",
              "      <td>0.000000</td>\n",
              "      <td>0.000000</td>\n",
              "      <td>0.000000</td>\n",
              "      <td>0.000000</td>\n",
              "      <td>-1.447388e+00</td>\n",
              "    </tr>\n",
              "    <tr>\n",
              "      <th>25%</th>\n",
              "      <td>2.690516e+04</td>\n",
              "      <td>-6.535600e-01</td>\n",
              "      <td>0.076923</td>\n",
              "      <td>0.030965</td>\n",
              "      <td>0.118510</td>\n",
              "      <td>0.187500</td>\n",
              "      <td>-9.969977e-01</td>\n",
              "    </tr>\n",
              "    <tr>\n",
              "      <th>50%</th>\n",
              "      <td>4.374114e+04</td>\n",
              "      <td>-1.260686e-01</td>\n",
              "      <td>0.184014</td>\n",
              "      <td>0.048035</td>\n",
              "      <td>0.146727</td>\n",
              "      <td>0.187500</td>\n",
              "      <td>-4.685980e-02</td>\n",
              "    </tr>\n",
              "    <tr>\n",
              "      <th>75%</th>\n",
              "      <td>8.241812e+04</td>\n",
              "      <td>4.767786e-01</td>\n",
              "      <td>0.230769</td>\n",
              "      <td>0.070464</td>\n",
              "      <td>0.191874</td>\n",
              "      <td>0.187500</td>\n",
              "      <td>8.785992e-01</td>\n",
              "    </tr>\n",
              "    <tr>\n",
              "      <th>max</th>\n",
              "      <td>3.594996e+06</td>\n",
              "      <td>3.867795e+00</td>\n",
              "      <td>1.000000</td>\n",
              "      <td>1.000000</td>\n",
              "      <td>1.000000</td>\n",
              "      <td>1.000000</td>\n",
              "      <td>2.001489e+00</td>\n",
              "    </tr>\n",
              "  </tbody>\n",
              "</table>\n",
              "</div>\n",
              "    <div class=\"colab-df-buttons\">\n",
              "\n",
              "  <div class=\"colab-df-container\">\n",
              "    <button class=\"colab-df-convert\" onclick=\"convertToInteractive('df-b550648b-85d4-417c-bbcb-0ca397e0f2ee')\"\n",
              "            title=\"Convert this dataframe to an interactive table.\"\n",
              "            style=\"display:none;\">\n",
              "\n",
              "  <svg xmlns=\"http://www.w3.org/2000/svg\" height=\"24px\" viewBox=\"0 -960 960 960\">\n",
              "    <path d=\"M120-120v-720h720v720H120Zm60-500h600v-160H180v160Zm220 220h160v-160H400v160Zm0 220h160v-160H400v160ZM180-400h160v-160H180v160Zm440 0h160v-160H620v160ZM180-180h160v-160H180v160Zm440 0h160v-160H620v160Z\"/>\n",
              "  </svg>\n",
              "    </button>\n",
              "\n",
              "  <style>\n",
              "    .colab-df-container {\n",
              "      display:flex;\n",
              "      gap: 12px;\n",
              "    }\n",
              "\n",
              "    .colab-df-convert {\n",
              "      background-color: #E8F0FE;\n",
              "      border: none;\n",
              "      border-radius: 50%;\n",
              "      cursor: pointer;\n",
              "      display: none;\n",
              "      fill: #1967D2;\n",
              "      height: 32px;\n",
              "      padding: 0 0 0 0;\n",
              "      width: 32px;\n",
              "    }\n",
              "\n",
              "    .colab-df-convert:hover {\n",
              "      background-color: #E2EBFA;\n",
              "      box-shadow: 0px 1px 2px rgba(60, 64, 67, 0.3), 0px 1px 3px 1px rgba(60, 64, 67, 0.15);\n",
              "      fill: #174EA6;\n",
              "    }\n",
              "\n",
              "    .colab-df-buttons div {\n",
              "      margin-bottom: 4px;\n",
              "    }\n",
              "\n",
              "    [theme=dark] .colab-df-convert {\n",
              "      background-color: #3B4455;\n",
              "      fill: #D2E3FC;\n",
              "    }\n",
              "\n",
              "    [theme=dark] .colab-df-convert:hover {\n",
              "      background-color: #434B5C;\n",
              "      box-shadow: 0px 1px 3px 1px rgba(0, 0, 0, 0.15);\n",
              "      filter: drop-shadow(0px 1px 2px rgba(0, 0, 0, 0.3));\n",
              "      fill: #FFFFFF;\n",
              "    }\n",
              "  </style>\n",
              "\n",
              "    <script>\n",
              "      const buttonEl =\n",
              "        document.querySelector('#df-b550648b-85d4-417c-bbcb-0ca397e0f2ee button.colab-df-convert');\n",
              "      buttonEl.style.display =\n",
              "        google.colab.kernel.accessAllowed ? 'block' : 'none';\n",
              "\n",
              "      async function convertToInteractive(key) {\n",
              "        const element = document.querySelector('#df-b550648b-85d4-417c-bbcb-0ca397e0f2ee');\n",
              "        const dataTable =\n",
              "          await google.colab.kernel.invokeFunction('convertToInteractive',\n",
              "                                                    [key], {});\n",
              "        if (!dataTable) return;\n",
              "\n",
              "        const docLinkHtml = 'Like what you see? Visit the ' +\n",
              "          '<a target=\"_blank\" href=https://colab.research.google.com/notebooks/data_table.ipynb>data table notebook</a>'\n",
              "          + ' to learn more about interactive tables.';\n",
              "        element.innerHTML = '';\n",
              "        dataTable['output_type'] = 'display_data';\n",
              "        await google.colab.output.renderOutput(dataTable, element);\n",
              "        const docLink = document.createElement('div');\n",
              "        docLink.innerHTML = docLinkHtml;\n",
              "        element.appendChild(docLink);\n",
              "      }\n",
              "    </script>\n",
              "  </div>\n",
              "\n",
              "\n",
              "<div id=\"df-f8b77667-4086-4e73-8a68-ba669dd75b46\">\n",
              "  <button class=\"colab-df-quickchart\" onclick=\"quickchart('df-f8b77667-4086-4e73-8a68-ba669dd75b46')\"\n",
              "            title=\"Suggest charts\"\n",
              "            style=\"display:none;\">\n",
              "\n",
              "<svg xmlns=\"http://www.w3.org/2000/svg\" height=\"24px\"viewBox=\"0 0 24 24\"\n",
              "     width=\"24px\">\n",
              "    <g>\n",
              "        <path d=\"M19 3H5c-1.1 0-2 .9-2 2v14c0 1.1.9 2 2 2h14c1.1 0 2-.9 2-2V5c0-1.1-.9-2-2-2zM9 17H7v-7h2v7zm4 0h-2V7h2v10zm4 0h-2v-4h2v4z\"/>\n",
              "    </g>\n",
              "</svg>\n",
              "  </button>\n",
              "\n",
              "<style>\n",
              "  .colab-df-quickchart {\n",
              "      --bg-color: #E8F0FE;\n",
              "      --fill-color: #1967D2;\n",
              "      --hover-bg-color: #E2EBFA;\n",
              "      --hover-fill-color: #174EA6;\n",
              "      --disabled-fill-color: #AAA;\n",
              "      --disabled-bg-color: #DDD;\n",
              "  }\n",
              "\n",
              "  [theme=dark] .colab-df-quickchart {\n",
              "      --bg-color: #3B4455;\n",
              "      --fill-color: #D2E3FC;\n",
              "      --hover-bg-color: #434B5C;\n",
              "      --hover-fill-color: #FFFFFF;\n",
              "      --disabled-bg-color: #3B4455;\n",
              "      --disabled-fill-color: #666;\n",
              "  }\n",
              "\n",
              "  .colab-df-quickchart {\n",
              "    background-color: var(--bg-color);\n",
              "    border: none;\n",
              "    border-radius: 50%;\n",
              "    cursor: pointer;\n",
              "    display: none;\n",
              "    fill: var(--fill-color);\n",
              "    height: 32px;\n",
              "    padding: 0;\n",
              "    width: 32px;\n",
              "  }\n",
              "\n",
              "  .colab-df-quickchart:hover {\n",
              "    background-color: var(--hover-bg-color);\n",
              "    box-shadow: 0 1px 2px rgba(60, 64, 67, 0.3), 0 1px 3px 1px rgba(60, 64, 67, 0.15);\n",
              "    fill: var(--button-hover-fill-color);\n",
              "  }\n",
              "\n",
              "  .colab-df-quickchart-complete:disabled,\n",
              "  .colab-df-quickchart-complete:disabled:hover {\n",
              "    background-color: var(--disabled-bg-color);\n",
              "    fill: var(--disabled-fill-color);\n",
              "    box-shadow: none;\n",
              "  }\n",
              "\n",
              "  .colab-df-spinner {\n",
              "    border: 2px solid var(--fill-color);\n",
              "    border-color: transparent;\n",
              "    border-bottom-color: var(--fill-color);\n",
              "    animation:\n",
              "      spin 1s steps(1) infinite;\n",
              "  }\n",
              "\n",
              "  @keyframes spin {\n",
              "    0% {\n",
              "      border-color: transparent;\n",
              "      border-bottom-color: var(--fill-color);\n",
              "      border-left-color: var(--fill-color);\n",
              "    }\n",
              "    20% {\n",
              "      border-color: transparent;\n",
              "      border-left-color: var(--fill-color);\n",
              "      border-top-color: var(--fill-color);\n",
              "    }\n",
              "    30% {\n",
              "      border-color: transparent;\n",
              "      border-left-color: var(--fill-color);\n",
              "      border-top-color: var(--fill-color);\n",
              "      border-right-color: var(--fill-color);\n",
              "    }\n",
              "    40% {\n",
              "      border-color: transparent;\n",
              "      border-right-color: var(--fill-color);\n",
              "      border-top-color: var(--fill-color);\n",
              "    }\n",
              "    60% {\n",
              "      border-color: transparent;\n",
              "      border-right-color: var(--fill-color);\n",
              "    }\n",
              "    80% {\n",
              "      border-color: transparent;\n",
              "      border-right-color: var(--fill-color);\n",
              "      border-bottom-color: var(--fill-color);\n",
              "    }\n",
              "    90% {\n",
              "      border-color: transparent;\n",
              "      border-bottom-color: var(--fill-color);\n",
              "    }\n",
              "  }\n",
              "</style>\n",
              "\n",
              "  <script>\n",
              "    async function quickchart(key) {\n",
              "      const quickchartButtonEl =\n",
              "        document.querySelector('#' + key + ' button');\n",
              "      quickchartButtonEl.disabled = true;  // To prevent multiple clicks.\n",
              "      quickchartButtonEl.classList.add('colab-df-spinner');\n",
              "      try {\n",
              "        const charts = await google.colab.kernel.invokeFunction(\n",
              "            'suggestCharts', [key], {});\n",
              "      } catch (error) {\n",
              "        console.error('Error during call to suggestCharts:', error);\n",
              "      }\n",
              "      quickchartButtonEl.classList.remove('colab-df-spinner');\n",
              "      quickchartButtonEl.classList.add('colab-df-quickchart-complete');\n",
              "    }\n",
              "    (() => {\n",
              "      let quickchartButtonEl =\n",
              "        document.querySelector('#df-f8b77667-4086-4e73-8a68-ba669dd75b46 button');\n",
              "      quickchartButtonEl.style.display =\n",
              "        google.colab.kernel.accessAllowed ? 'block' : 'none';\n",
              "    })();\n",
              "  </script>\n",
              "</div>\n",
              "\n",
              "    </div>\n",
              "  </div>\n"
            ],
            "application/vnd.google.colaboratory.intrinsic+json": {
              "type": "dataframe",
              "summary": "{\n  \"name\": \"pf\",\n  \"rows\": 8,\n  \"fields\": [\n    {\n      \"column\": \"price\",\n      \"properties\": {\n        \"dtype\": \"number\",\n        \"std\": 1254657.3608377955,\n        \"min\": 2880.0,\n        \"max\": 3594996.0000000005,\n        \"num_unique_values\": 8,\n        \"samples\": [\n          70965.18144566158,\n          43741.13607142857,\n          6308.0\n        ],\n        \"semantic_type\": \"\",\n        \"description\": \"\"\n      }\n    },\n    {\n      \"column\": \"engine_capacity\",\n      \"properties\": {\n        \"dtype\": \"number\",\n        \"std\": 2230.0940058098636,\n        \"min\": -2.1606781676639404,\n        \"max\": 6308.0,\n        \"num_unique_values\": 8,\n        \"samples\": [\n          -3.153962682511542e-16,\n          -0.1260686391546841,\n          6308.0\n        ],\n        \"semantic_type\": \"\",\n        \"description\": \"\"\n      }\n    },\n    {\n      \"column\": \"cylinder\",\n      \"properties\": {\n        \"dtype\": \"number\",\n        \"std\": 2230.1233132601137,\n        \"min\": 0.0,\n        \"max\": 6308.0,\n        \"num_unique_values\": 8,\n        \"samples\": [\n          0.1840136899340344,\n          0.18401368993403444,\n          6308.0\n        ],\n        \"semantic_type\": \"\",\n        \"description\": \"\"\n      }\n    },\n    {\n      \"column\": \"horse_power\",\n      \"properties\": {\n        \"dtype\": \"number\",\n        \"std\": 2230.152163997044,\n        \"min\": 0.0,\n        \"max\": 6308.0,\n        \"num_unique_values\": 8,\n        \"samples\": [\n          0.05550323415439842,\n          0.04803493449781659,\n          6308.0\n        ],\n        \"semantic_type\": \"\",\n        \"description\": \"\"\n      }\n    },\n    {\n      \"column\": \"top_speed\",\n      \"properties\": {\n        \"dtype\": \"number\",\n        \"std\": 2230.1304363100644,\n        \"min\": 0.0,\n        \"max\": 6308.0,\n        \"num_unique_values\": 8,\n        \"samples\": [\n          0.1594682110200334,\n          0.14672686230248305,\n          6308.0\n        ],\n        \"semantic_type\": \"\",\n        \"description\": \"\"\n      }\n    },\n    {\n      \"column\": \"seats\",\n      \"properties\": {\n        \"dtype\": \"number\",\n        \"std\": 2230.121518954578,\n        \"min\": 0.0,\n        \"max\": 6308.0,\n        \"num_unique_values\": 6,\n        \"samples\": [\n          6308.0,\n          0.1897392200380469,\n          1.0\n        ],\n        \"semantic_type\": \"\",\n        \"description\": \"\"\n      }\n    },\n    {\n      \"column\": \"brand\",\n      \"properties\": {\n        \"dtype\": \"number\",\n        \"std\": 2230.14491191504,\n        \"min\": -1.4473877541417677,\n        \"max\": 6308.0,\n        \"num_unique_values\": 8,\n        \"samples\": [\n          1.1264152437541221e-17,\n          -0.04685979790930289,\n          6308.0\n        ],\n        \"semantic_type\": \"\",\n        \"description\": \"\"\n      }\n    }\n  ]\n}"
            }
          },
          "metadata": {},
          "execution_count": 7
        }
      ]
    },
    {
      "cell_type": "code",
      "execution_count": 8,
      "metadata": {
        "colab": {
          "base_uri": "https://localhost:8080/"
        },
        "id": "4QFBobmcw_2C",
        "outputId": "44515a53-dd99-461e-a027-cbe24cd90ed0"
      },
      "outputs": [
        {
          "output_type": "stream",
          "name": "stdout",
          "text": [
            "number of features: 14\n",
            "number of NaN values: 0\n"
          ]
        }
      ],
      "source": [
        "pf = pf.apply(pd.to_numeric, errors='coerce')\n",
        "print(f\"number of features: {len(pf.columns)}\")\n",
        "print(f\"number of NaN values: {pf.isna().sum().sum()}\")"
      ]
    },
    {
      "cell_type": "code",
      "execution_count": 9,
      "metadata": {
        "colab": {
          "base_uri": "https://localhost:8080/"
        },
        "id": "3sEDg1HxrKvB",
        "outputId": "e762ab0b-a370-4768-c609-e6b2024feb5c"
      },
      "outputs": [
        {
          "output_type": "stream",
          "name": "stderr",
          "text": [
            "<ipython-input-9-d1a2bb8993b4>:2: FutureWarning: DataFrame.applymap has been deprecated. Use DataFrame.map instead.\n",
            "  non_numeric_count = pf.applymap(lambda x: not pd.api.types.is_numeric_dtype(type(x))).sum().sum()\n"
          ]
        },
        {
          "output_type": "stream",
          "name": "stdout",
          "text": [
            "Number of non-numeric values: 0\n"
          ]
        }
      ],
      "source": [
        "# Count non-numeric values\n",
        "non_numeric_count = pf.applymap(lambda x: not pd.api.types.is_numeric_dtype(type(x))).sum().sum()\n",
        "\n",
        "print(f\"Number of non-numeric values: {non_numeric_count}\")"
      ]
    },
    {
      "cell_type": "markdown",
      "metadata": {
        "id": "VXNZylz4E-f9"
      },
      "source": [
        "# Splitting the Dataset"
      ]
    },
    {
      "cell_type": "code",
      "execution_count": 10,
      "metadata": {
        "id": "80pmj3FP5mMK"
      },
      "outputs": [],
      "source": [
        "# Split the dataset to training, validation and test sets\n",
        "models = []\n",
        "predictions = []\n",
        "model_names = []\n",
        "feature_names_list = []\n",
        "train_poly_features = []\n",
        "test_poly_features = []\n",
        "\n",
        "X = pf.drop('price', axis=1)\n",
        "y = pf['price']\n",
        "\n",
        "# First split the data set to 80/20\n",
        "X_train, X_test, y_train, y_test = train_test_split(X, y, test_size=0.2, random_state=58)\n",
        "# Then split the the 80% part to 60/20\n",
        "X_train, X_val, y_train, y_val = train_test_split(X_train, y_train, test_size=0.25, random_state=58)\n",
        "\n",
        "\n"
      ]
    },
    {
      "cell_type": "markdown",
      "metadata": {
        "id": "XEImi-hh5hvi"
      },
      "source": [
        "# Building Regression Models\n",
        "Implementation of linear and nonlinear regression models"
      ]
    },
    {
      "cell_type": "code",
      "execution_count": 11,
      "metadata": {
        "id": "US3_rMyar-Y_"
      },
      "outputs": [],
      "source": [
        "# Linear Regression by solving linear equations\n",
        "# pinv is used because it is a singular matrix\n",
        "X_num = X_train.to_numpy(dtype=np.float32)\n",
        "y_num = y_train.to_numpy(dtype=np.float32)\n",
        "w = np.linalg.pinv(X_num.T.dot(X_num)).dot(X_num.T).dot(y_num)\n",
        "w = w.reshape(-1, 1)\n",
        "y_pred_clf = X_val.dot(w)\n"
      ]
    },
    {
      "cell_type": "code",
      "source": [
        "X_num.shape"
      ],
      "metadata": {
        "id": "9UAnqyOeu5YJ",
        "outputId": "41517f29-009f-4bd4-cd64-d2464e5b174e",
        "colab": {
          "base_uri": "https://localhost:8080/"
        }
      },
      "execution_count": 12,
      "outputs": [
        {
          "output_type": "execute_result",
          "data": {
            "text/plain": [
              "(3784, 13)"
            ]
          },
          "metadata": {},
          "execution_count": 12
        }
      ]
    },
    {
      "cell_type": "code",
      "execution_count": 24,
      "metadata": {
        "colab": {
          "base_uri": "https://localhost:8080/",
          "height": 666
        },
        "id": "ogGQPe-sFxQV",
        "outputId": "3741fe23-5985-422a-9ba4-3b70934ea93d"
      },
      "outputs": [
        {
          "output_type": "stream",
          "name": "stdout",
          "text": [
            "Iteration 0: Error = 16991632810.957563\n",
            "Iteration 100: Error = 10993221713.805634\n",
            "Iteration 200: Error = 10436342118.952108\n",
            "Iteration 300: Error = 10332414475.648642\n",
            "Iteration 400: Error = 10269979478.591093\n",
            "Iteration 500: Error = 10213816040.083172\n",
            "Iteration 600: Error = 10160461995.591265\n",
            "Iteration 700: Error = 10109304174.834387\n",
            "Iteration 800: Error = 10060051380.547562\n"
          ]
        },
        {
          "output_type": "stream",
          "name": "stderr",
          "text": [
            "WARNING:matplotlib.legend:No artists with labels found to put in legend.  Note that artists whose label start with an underscore are ignored when legend() is called with no argument.\n"
          ]
        },
        {
          "output_type": "stream",
          "name": "stdout",
          "text": [
            "Iteration 900: Error = 10012489859.762981\n"
          ]
        },
        {
          "output_type": "display_data",
          "data": {
            "text/plain": [
              "<Figure size 1000x600 with 1 Axes>"
            ],
            "image/png": "[encoded data removed]"
          },
          "metadata": {}
        }
      ],
      "source": [
        "\n",
        "# Using Gradient Descent\n",
        "learning_rate = 0.01\n",
        "num_iterations = 1000\n",
        "errors = []\n",
        "W = np.random.randn(X_num.shape[1], 1) * 0.01  # Initialize W randomly\n",
        "b = np.random.randn(1, 1) * 0.01  # Initialize b randomly\n",
        "y_num = y_num.reshape(-1, 1)\n",
        "\n",
        "for i in range(num_iterations):\n",
        "    # compute errors\n",
        "    pred = np.dot(X_num, W) + b\n",
        "    difference = pred - y_num\n",
        "\n",
        "    # compute steps\n",
        "    W = W - learning_rate * np.matmul(X_num.T, difference) / X_num.shape[0]\n",
        "    b = b - learning_rate * np.sum(difference) / X_num.shape[0]\n",
        "\n",
        "    errors.append(np.mean(difference**2))\n",
        "    if i % 100 == 0:\n",
        "        print(f\"Iteration {i}: Error = {errors[-1]}\")\n",
        "\n",
        "plt.figure(figsize=(10, 6))\n",
        "plt.plot(range(num_iterations), errors)\n",
        "plt.xlabel('Iteration')\n",
        "plt.ylabel('Error')\n",
        "plt.title('Gradient Descent Error')\n",
        "plt.legend()\n",
        "plt.show()\n",
        "\n"
      ]
    },
    {
      "cell_type": "markdown",
      "source": [
        "# Comparison: Closed-Form Solution vs Gradient Descent"
      ],
      "metadata": {
        "id": "QFUZTC7vjgvx"
      }
    },
    {
      "cell_type": "code",
      "source": [
        "# prediction using gradient descent parameters\n",
        "y_pred_gd = X_val.dot(W) + b"
      ],
      "metadata": {
        "id": "7cEuU_aczcI2"
      },
      "execution_count": 26,
      "outputs": []
    },
    {
      "cell_type": "code",
      "source": [
        "print('Score on Closed-Form Solution')\n",
        "print(f\"  MAE: {mean_absolute_error(y_val, y_pred_clf)}\")\n",
        "print(f\"  MSE: {mean_squared_error(y_val, y_pred_clf)}\")\n",
        "print(f\"  R-squared: {r2_score(y_val, y_pred_clf)}\\n\")\n",
        "\n",
        "\n",
        "print('Score on Gradient Descent')\n",
        "print(f\"  MAE: {mean_absolute_error(y_val, y_pred_gd)}\")\n",
        "print(f\"  MSE: {mean_squared_error(y_val, y_pred_gd)}\")\n",
        "print(f\"  R-squared: {r2_score(y_val, y_pred_gd)}\\n\")"
      ],
      "metadata": {
        "id": "Aij289ZBjXwZ",
        "outputId": "d1507d69-ac2a-4893-93bd-413ab2b17133",
        "colab": {
          "base_uri": "https://localhost:8080/"
        }
      },
      "execution_count": 28,
      "outputs": [
        {
          "output_type": "stream",
          "name": "stdout",
          "text": [
            "Score on Closed-Form Solution\n",
            "  MAE: 27426.902706343\n",
            "  MSE: 2537846679.962121\n",
            "  R-squared: 0.5973434102891375\n",
            "\n",
            "Score on Gradient Descent\n",
            "  MAE: 38548.9357285449\n",
            "  MSE: 4462588156.156118\n",
            "  R-squared: 0.29196253562932806\n",
            "\n"
          ]
        }
      ]
    },
    {
      "cell_type": "code",
      "source": [
        "model = LinearRegression()\n",
        "model.fit(X_train, y_train)\n",
        "y_pred = model.predict(X_val)\n",
        "models.append(model)\n",
        "predictions.append(y_pred)\n",
        "model_names.append(\"Linear Regression\")\n",
        "\n"
      ],
      "metadata": {
        "id": "lJddAsHsfPV5"
      },
      "execution_count": 29,
      "outputs": []
    },
    {
      "cell_type": "code",
      "execution_count": 30,
      "metadata": {
        "id": "orLK8xEEsAPz"
      },
      "outputs": [],
      "source": [
        "# Polynomial Regression\n",
        "for i in range(2, 5):\n",
        "    poly = PolynomialFeatures(degree=i)\n",
        "    # don't use fit_transform on validation and test sets to prevent data leakage\n",
        "    X_train_poly = poly.fit_transform(X_train)\n",
        "    X_val_poly = poly.transform(X_val)\n",
        "    X_test_poly = poly.transform(X_test)\n",
        "    PolyRegression = LinearRegression()\n",
        "    PolyRegression.fit(X_train_poly, y_train)\n",
        "    y_pred = PolyRegression.predict(X_val_poly)\n",
        "    train_poly_features.append(X_train_poly)\n",
        "    test_poly_features.append(X_test_poly)\n",
        "    models.append(PolyRegression)\n",
        "    predictions.append(y_pred)\n",
        "    feature_names_list.append(poly.get_feature_names_out())\n",
        "    model_names.append(f\"Polynomial Regression (degree={i})\")"
      ]
    },
    {
      "cell_type": "code",
      "execution_count": 31,
      "metadata": {
        "id": "Qh1iwxZCsByV"
      },
      "outputs": [],
      "source": [
        "\n",
        "# Standard Gaussian Kernel (RBF)\n",
        "\n",
        "rbf = SVR(kernel='rbf')\n",
        "rbf.fit(X_train, y_train)\n",
        "y_pred = rbf.predict(X_val)\n",
        "models.append(rbf)\n",
        "predictions.append(y_pred)\n",
        "model_names.append(\"RBF Kernel\")"
      ]
    },
    {
      "cell_type": "markdown",
      "metadata": {
        "id": "EMyY3Jhf8wXV"
      },
      "source": [
        "# Applying Regularization\n"
      ]
    },
    {
      "cell_type": "code",
      "execution_count": 32,
      "metadata": {
        "id": "XKJa2m8X634K",
        "colab": {
          "base_uri": "https://localhost:8080/"
        },
        "outputId": "2e90ae21-cd0a-44aa-e95e-65f19967e939"
      },
      "outputs": [
        {
          "output_type": "stream",
          "name": "stderr",
          "text": [
            "/usr/local/lib/python3.10/dist-packages/sklearn/linear_model/_coordinate_descent.py:697: ConvergenceWarning: Objective did not converge. You might want to increase the number of iterations, check the scale of the features or consider increasing regularisation. Duality gap: 3.160e+10, tolerance: 5.075e+08\n",
            "  model = cd_fast.enet_coordinate_descent(\n",
            "/usr/local/lib/python3.10/dist-packages/sklearn/linear_model/_coordinate_descent.py:697: ConvergenceWarning: Objective did not converge. You might want to increase the number of iterations, check the scale of the features or consider increasing regularisation. Duality gap: 5.647e+10, tolerance: 6.653e+08\n",
            "  model = cd_fast.enet_coordinate_descent(\n",
            "/usr/local/lib/python3.10/dist-packages/sklearn/linear_model/_coordinate_descent.py:697: ConvergenceWarning: Objective did not converge. You might want to increase the number of iterations, check the scale of the features or consider increasing regularisation. Duality gap: 2.610e+11, tolerance: 6.745e+08\n",
            "  model = cd_fast.enet_coordinate_descent(\n",
            "/usr/local/lib/python3.10/dist-packages/sklearn/linear_model/_coordinate_descent.py:697: ConvergenceWarning: Objective did not converge. You might want to increase the number of iterations, check the scale of the features or consider increasing regularisation. Duality gap: 2.501e+11, tolerance: 6.629e+08\n",
            "  model = cd_fast.enet_coordinate_descent(\n",
            "/usr/local/lib/python3.10/dist-packages/sklearn/linear_model/_coordinate_descent.py:697: ConvergenceWarning: Objective did not converge. You might want to increase the number of iterations, check the scale of the features or consider increasing regularisation. Duality gap: 5.061e+10, tolerance: 6.713e+08\n",
            "  model = cd_fast.enet_coordinate_descent(\n",
            "/usr/local/lib/python3.10/dist-packages/sklearn/linear_model/_coordinate_descent.py:697: ConvergenceWarning: Objective did not converge. You might want to increase the number of iterations, check the scale of the features or consider increasing regularisation. Duality gap: 3.171e+10, tolerance: 5.075e+08\n",
            "  model = cd_fast.enet_coordinate_descent(\n",
            "/usr/local/lib/python3.10/dist-packages/sklearn/linear_model/_coordinate_descent.py:697: ConvergenceWarning: Objective did not converge. You might want to increase the number of iterations, check the scale of the features or consider increasing regularisation. Duality gap: 5.661e+10, tolerance: 6.653e+08\n",
            "  model = cd_fast.enet_coordinate_descent(\n",
            "/usr/local/lib/python3.10/dist-packages/sklearn/linear_model/_coordinate_descent.py:697: ConvergenceWarning: Objective did not converge. You might want to increase the number of iterations, check the scale of the features or consider increasing regularisation. Duality gap: 5.074e+10, tolerance: 6.713e+08\n",
            "  model = cd_fast.enet_coordinate_descent(\n",
            "/usr/local/lib/python3.10/dist-packages/sklearn/linear_model/_coordinate_descent.py:697: ConvergenceWarning: Objective did not converge. You might want to increase the number of iterations, check the scale of the features or consider increasing regularisation. Duality gap: 5.090e+10, tolerance: 6.713e+08\n",
            "  model = cd_fast.enet_coordinate_descent(\n"
          ]
        }
      ],
      "source": [
        "# apply grid search to lasso and ridge reguralization techniques\n",
        "lasso = Lasso()\n",
        "parameters = {'alpha': [0.1, 0.5, 1, 5, 10]}\n",
        "lasso_regressor = GridSearchCV(lasso, parameters, scoring='neg_mean_squared_error', cv=5)\n",
        "lasso_regressor.fit(X_val, y_val)\n",
        "lasso_regressor = lasso_regressor.best_estimator_\n",
        "\n",
        "ridge = Ridge()\n",
        "parameters = {'alpha': [0.1, 0.5, 1, 5, 10]}\n",
        "ridge_regressor = GridSearchCV(ridge, parameters, scoring='neg_mean_squared_error', cv=5)\n",
        "ridge_regressor.fit(X_val, y_val)\n",
        "ridge_regressor = ridge_regressor.best_estimator_\n",
        "\n",
        "# fit the best model to the training data\n",
        "lasso_regressor.fit(X_train, y_train)\n",
        "ridge_regressor.fit(X_train, y_train)\n",
        "\n",
        "models.append(lasso_regressor)\n",
        "models.append(ridge_regressor)\n",
        "model_names.append(\"Lasso\")\n",
        "predictions.append(lasso_regressor.predict(X_val))\n",
        "model_names.append(\"Ridge\")\n",
        "predictions.append(ridge_regressor.predict(X_val))\n",
        "\n"
      ]
    },
    {
      "cell_type": "markdown",
      "metadata": {
        "id": "wyl3_EwqC55V"
      },
      "source": [
        "# Model Evaluation"
      ]
    },
    {
      "cell_type": "code",
      "execution_count": 33,
      "metadata": {
        "colab": {
          "base_uri": "https://localhost:8080/"
        },
        "id": "4X87b_YBC8gb",
        "outputId": "ed97b28b-0126-41d7-a734-e331e06e50a8"
      },
      "outputs": [
        {
          "output_type": "stream",
          "name": "stdout",
          "text": [
            "Scores:\n",
            "Linear Regression:\n",
            "  MAE: 27426.9281726817\n",
            "  MSE: 2537847086.921872\n",
            "  R-squared: 0.5973433457206091\n",
            "\n",
            "Polynomial Regression (degree=2):\n",
            "  MAE: 35159.996418277115\n",
            "  MSE: 4042507118.390758\n",
            "  R-squared: 0.3586128968999013\n",
            "\n",
            "Polynomial Regression (degree=3):\n",
            "  MAE: 24769.073839316537\n",
            "  MSE: 5742758300.878278\n",
            "  R-squared: 0.08884981459955343\n",
            "\n",
            "Polynomial Regression (degree=4):\n",
            "  MAE: 58272.170475972576\n",
            "  MSE: 1066351983954.8091\n",
            "  R-squared: -168.18817700093072\n",
            "\n",
            "RBF Kernel:\n",
            "  MAE: 42581.18789358323\n",
            "  MSE: 6966109997.856401\n",
            "  R-squared: -0.10524805041787144\n",
            "\n",
            "Lasso:\n",
            "  MAE: 27350.862312789694\n",
            "  MSE: 2534287863.504075\n",
            "  R-squared: 0.5979080546822437\n",
            "\n",
            "Ridge:\n",
            "  MAE: 27310.35419101763\n",
            "  MSE: 2530363121.4601016\n",
            "  R-squared: 0.5985307570934646\n",
            "\n",
            "The best model is Ridge with R-squared = 0.5985307570934646\n"
          ]
        }
      ],
      "source": [
        "\n",
        "scores = {'MAE': [], 'MSE': [], 'R_squared': []}\n",
        "\n",
        "for i in range(len(predictions)):\n",
        "    scores['MAE'].append(mean_absolute_error(y_val, predictions[i]))\n",
        "    scores['MSE'].append(mean_squared_error(y_val, predictions[i]))\n",
        "    scores['R_squared'].append(r2_score(y_val, predictions[i]))\n",
        "\n",
        "# Print the scores\n",
        "print(\"Scores:\")\n",
        "for i in range(len(predictions)):\n",
        "    print(f\"{model_names[i]}:\")\n",
        "    print(f\"  MAE: {scores['MAE'][i]}\")\n",
        "    print(f\"  MSE: {scores['MSE'][i]}\")\n",
        "    print(f\"  R-squared: {scores['R_squared'][i]}\\n\")\n",
        "\n",
        "best_model_index = scores['R_squared'].index(max(scores['R_squared']))\n",
        "best_model = models[best_model_index]\n",
        "print(f\"The best model is {model_names[best_model_index]} with R-squared = {scores['R_squared'][best_model_index]}\")\n",
        "\n",
        "\n",
        "\n",
        "\n",
        "\n"
      ]
    },
    {
      "cell_type": "code",
      "source": [
        "#Function of mean squared error\n",
        "def neg_mse(y_true, y_pred):\n",
        "    squared_errors = (y_true - y_pred) ** 2  # Calculate squared errors\n",
        "    mse = np.mean(squared_errors)  # Calculate the mean of squared errors\n",
        "    return mse*-1  # Return the MSE"
      ],
      "metadata": {
        "id": "njdn2kS4Gff9"
      },
      "execution_count": 34,
      "outputs": []
    },
    {
      "cell_type": "code",
      "source": [
        "\n",
        "def feature_selection(dataset, model, poly, degree=2): # Added degree parameter\n",
        "    \"\"\"\n",
        "    Selects the best features based on MSE after applying polynomial regression.\n",
        "\n",
        "    Args:\n",
        "        dataset (pd.DataFrame): The entire dataset with features and target.\n",
        "        model: The model to use for evaluation.\n",
        "        degree (int, optional): The degree of the polynomial features. Defaults to 2.\n",
        "\n",
        "    Returns:\n",
        "        list: A list of the selected feature names.\n",
        "        pd.DataFrame: The training data with selected features.\n",
        "        pd.DataFrame: The test data with selected features.\n",
        "    \"\"\"\n",
        "\n",
        "    x = dataset.drop(['price'], axis=1)\n",
        "    y = dataset['price']\n",
        "\n",
        "    if poly == True:\n",
        "      # Apply PolynomialFeatures\n",
        "      poly_features = PolynomialFeatures(degree=degree)\n",
        "      x_poly = poly_features.fit_transform(x)\n",
        "      feature_names = poly_features.get_feature_names_out(input_features=x.columns)\n",
        "      x = pd.DataFrame(x_poly, columns=feature_names, index=x.index) # Keep original index\n",
        "\n",
        "\n",
        "    # Split data after polynomial transformation\n",
        "    X_train, X_test, y_train, y_test = train_test_split(x, y, test_size=0.2, random_state=58)\n",
        "    X_train, X_val, y_train, y_val = train_test_split(X_train, y_train, test_size=0.25, random_state=58)\n",
        "\n",
        "\n",
        "    lreg = model  # Used in this function.\n",
        "\n",
        "    allFeatures = list(X_train.columns)\n",
        "    mseList = []  # To know what is the best feature.\n",
        "    mse2 = []  # This carries feature names, with the same index as the first one.\n",
        "    bestChoice = []  # Best features were chosen. To use them in the next iterations.\n",
        "    mseForComper = []\n",
        "\n",
        "    for i in range(0, X_train.shape[1]):  # Iterating all features...\n",
        "        for feature in allFeatures:  # Iterating all features.\n",
        "            lreg.fit(X_train[bestChoice + [feature]].values, y_train)\n",
        "            y_pred = lreg.predict(X_val[bestChoice + [feature]].values)\n",
        "\n",
        "            mse = neg_mse(y_val, y_pred)\n",
        "            mseList.append(mse)\n",
        "            mse2.append(feature)\n",
        "\n",
        "        mseForComper.append(max(mseList))\n",
        "\n",
        "        if len(mseForComper) >= 2:  # If there is more than one element, check if the mse is getting bigger, if true --> stop with the best features included.\n",
        "            if mseForComper[-1] < mseForComper[-2]:\n",
        "                break\n",
        "\n",
        "        bestChoice.append(mse2[mseList.index(max(mseList))])\n",
        "        mseList.clear()\n",
        "        mse2.clear()\n",
        "\n",
        "        allFeatures.remove(bestChoice[-1])\n",
        "\n",
        "    # Return selected features and transformed data\n",
        "    return bestChoice, X_train[bestChoice], X_test[bestChoice]\n",
        "\n",
        "# Call feature_selection with the entire dataset\n",
        "poly = 1 < best_model_index and best_model_index < 5\n",
        "best_features, X_train_selected, X_test_selected = feature_selection(pf, best_model, best_model_index)\n",
        "\n",
        "# ... (Continue with your model training and evaluation) ..."
      ],
      "metadata": {
        "id": "sEZFc_TmHbp_"
      },
      "execution_count": 35,
      "outputs": []
    },
    {
      "cell_type": "code",
      "source": [
        "# print the best features\n",
        "print('Original Features:')\n",
        "print(X_train.columns)\n",
        "best_features"
      ],
      "metadata": {
        "id": "I1d7_HOrI7eH",
        "outputId": "82394e90-8bc0-424b-d980-83cf38df0d20",
        "colab": {
          "base_uri": "https://localhost:8080/"
        }
      },
      "execution_count": 43,
      "outputs": [
        {
          "output_type": "stream",
          "name": "stdout",
          "text": [
            "Original Features:\n",
            "Index(['engine_capacity', 'cylinder', 'horse_power', 'top_speed', 'seats',\n",
            "       'brand', 'country_bahrain', 'country_egypt', 'country_ksa',\n",
            "       'country_kuwait', 'country_oman', 'country_qatar', 'country_uae'],\n",
            "      dtype='object')\n"
          ]
        },
        {
          "output_type": "execute_result",
          "data": {
            "text/plain": [
              "['horse_power',\n",
              " 'top_speed',\n",
              " 'cylinder',\n",
              " 'engine_capacity',\n",
              " 'brand',\n",
              " 'country_ksa',\n",
              " 'seats',\n",
              " 'country_kuwait',\n",
              " 'country_bahrain',\n",
              " 'country_egypt']"
            ]
          },
          "metadata": {},
          "execution_count": 43
        }
      ]
    },
    {
      "cell_type": "markdown",
      "source": [
        "#Evaluation on the Test Set"
      ],
      "metadata": {
        "id": "7hXzkMDDfoJ8"
      }
    },
    {
      "cell_type": "code",
      "source": [
        "best_model.fit(X_train_selected, y_train)\n",
        "y_pred = best_model.predict(X_test_selected)\n",
        "\n",
        "print(f\"{model_names[best_model_index]}:\")\n",
        "print(f\"  MAE: {mean_absolute_error(y_test, y_pred)}\")\n",
        "print(f\"  MSE: {mean_squared_error(y_test, y_pred)}\")\n",
        "print(f\"  R-squared: {r2_score(y_test, y_pred)}\\n\")"
      ],
      "metadata": {
        "id": "267PkJFwfvyk",
        "outputId": "9efee557-51d7-48b0-b5b1-0565c931acf4",
        "colab": {
          "base_uri": "https://localhost:8080/"
        }
      },
      "execution_count": 36,
      "outputs": [
        {
          "output_type": "stream",
          "name": "stdout",
          "text": [
            "Ridge:\n",
            "  MAE: 28189.572265402214\n",
            "  MSE: 4644177544.61307\n",
            "  R-squared: 0.4682906029810352\n",
            "\n"
          ]
        }
      ]
    },
    {
      "cell_type": "markdown",
      "source": [
        "#Reporting Results"
      ],
      "metadata": {
        "id": "Erh--jwjfwUs"
      }
    },
    {
      "cell_type": "code",
      "execution_count": 37,
      "metadata": {
        "id": "uygE7r2kEZm3",
        "outputId": "0e78860d-2cb1-43e5-b1b5-c3322ccc0bc2",
        "colab": {
          "base_uri": "https://localhost:8080/",
          "height": 485
        }
      },
      "outputs": [
        {
          "output_type": "stream",
          "name": "stderr",
          "text": [
            "WARNING:matplotlib.legend:No artists with labels found to put in legend.  Note that artists whose label start with an underscore are ignored when legend() is called with no argument.\n"
          ]
        },
        {
          "output_type": "display_data",
          "data": {
            "text/plain": [
              "<Figure size 1000x600 with 1 Axes>"
            ],
            "image/png": "[encoded data removed]"
          },
          "metadata": {}
        }
      ],
      "source": [
        "plt.figure(figsize=(10, 6))\n",
        "plt.plot(y_test, y_pred)\n",
        "plt.xlabel('actual value')\n",
        "plt.ylabel('predicted value')\n",
        "plt.title('Gradient Descent Error')\n",
        "plt.legend()\n",
        "plt.show()"
      ]
    },
    {
      "cell_type": "code",
      "source": [
        "# error distribution\n",
        "residuals = y_test - y_pred\n",
        "\n",
        "plt.figure(figsize=(10, 6))\n",
        "plt.hist(residuals, bins=30, edgecolor='black')\n",
        "plt.xlabel('Residuals')\n",
        "plt.ylabel('Frequency')\n",
        "plt.title('Distribution of Residuals')\n",
        "plt.show()\n"
      ],
      "metadata": {
        "id": "tjFg2OiP2KZS",
        "outputId": "5cadf38f-116f-4074-bc44-5df440d5cb37",
        "colab": {
          "base_uri": "https://localhost:8080/",
          "height": 445
        }
      },
      "execution_count": 44,
      "outputs": [
        {
          "output_type": "display_data",
          "data": {
            "text/plain": [
              "<Figure size 1000x600 with 1 Axes>"
            ],
            "image/png": "[encoded data removed]"
          },
          "metadata": {}
        }
      ]
    },
    {
      "cell_type": "code",
      "source": [
        "# 3. Get feature importances (absolute values of coefficients)\n",
        "feature_importances = np.abs(best_model.coef_)\n",
        "\n",
        "# 4. Create a DataFrame to display feature importances\n",
        "feature_importance_df = pd.DataFrame({'Feature': X_train_selected.columns, 'Importance': feature_importances})\n",
        "feature_importance_df = feature_importance_df.sort_values(by='Importance', ascending=False)\n",
        "\n",
        "# 5. Print or visualize the feature importances\n",
        "print(feature_importance_df)"
      ],
      "metadata": {
        "id": "yAmyAaR3t28r",
        "outputId": "37c0f1f9-6c7b-4c70-c5d2-6f6a55c61efa",
        "colab": {
          "base_uri": "https://localhost:8080/"
        }
      },
      "execution_count": 38,
      "outputs": [
        {
          "output_type": "stream",
          "name": "stdout",
          "text": [
            "           Feature    Importance\n",
            "0      horse_power  1.154432e+06\n",
            "1        top_speed  3.955198e+05\n",
            "2         cylinder  2.069318e+05\n",
            "6            seats  7.361707e+04\n",
            "3  engine_capacity  1.564085e+04\n",
            "5      country_ksa  1.224615e+04\n",
            "4            brand  8.860445e+03\n",
            "9    country_egypt  2.245005e+03\n",
            "7   country_kuwait  2.050590e+03\n",
            "8  country_bahrain  5.277851e+02\n"
          ]
        }
      ]
    },
    {
      "cell_type": "markdown",
      "source": [
        "# Optional Part"
      ],
      "metadata": {
        "id": "V6B2F6s20TKc"
      }
    },
    {
      "cell_type": "code",
      "source": [
        "\n",
        "# 1. Choose a new target variable\n",
        "new_target = 'top_speed'  # Replace with the actual column name from your dataset\n",
        "\n",
        "# 2. Prepare the data\n",
        "pf['top_speed'] = optional_target # since it's normalized\n",
        "X = pf.drop([new_target], axis=1) # Drop the old and the new target columns to avoid data leakage\n",
        "y = pf[new_target]\n",
        "\n",
        "# 3. Split the data\n",
        "X_train, X_test, y_train, y_test = train_test_split(X, y, test_size=0.2, random_state=58)\n",
        "\n",
        "# 4. Train the best model on the new target\n",
        "best_model.fit(X_train, y_train) # Assuming best_model is already defined and trained\n",
        "\n",
        "# 5. Evaluate the model\n",
        "y_pred = best_model.predict(X_test)\n",
        "\n",
        "\n",
        "# print scores of the model\n",
        "print(f\"  MAE: {mean_absolute_error(y_test, y_pred)}\")\n",
        "print(f\"  MSE: {mean_squared_error(y_test, y_pred)}\")\n",
        "print(f\"  R-squared: {r2_score(y_test, y_pred)}\")"
      ],
      "metadata": {
        "id": "dE9kxfFxwLRK",
        "outputId": "0d417905-f5c9-4db4-effc-6dedbabbb35b",
        "colab": {
          "base_uri": "https://localhost:8080/"
        }
      },
      "execution_count": 47,
      "outputs": [
        {
          "output_type": "stream",
          "name": "stdout",
          "text": [
            "  MAE: 22.433144170461972\n",
            "  MSE: 1365.8405969069536\n",
            "  R-squared: 0.4026999134040282\n"
          ]
        }
      ]
    },
    {
      "cell_type": "code",
      "source": [],
      "metadata": {
        "id": "jcmtKQJ-3HMj"
      },
      "execution_count": null,
      "outputs": []
    }
  ],
  "metadata": {
    "colab": {
      "provenance": [],
      "gpuType": "V28",
      "authorship_tag": "ABX9TyOphjHR4igvrMreJjw9FHPJ",
      "include_colab_link": true
    },
    "kernelspec": {
      "display_name": "Python 3",
      "name": "python3"
    },
    "language_info": {
      "name": "python"
    },
    "accelerator": "TPU"
  },
  "nbformat": 4,
  "nbformat_minor": 0
}