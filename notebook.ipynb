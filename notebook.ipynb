{
  "cells": [
    {
      "cell_type": "markdown",
      "metadata": {
        "id": "view-in-github",
        "colab_type": "text"
      },
      "source": [
        "<a href=\"https://colab.research.google.com/github/ghazicc/ML-Project2-Regression-Analysis-and-Model-Selection/blob/main/notebook.ipynb\" target=\"_parent\"><img src=\"https://colab.research.google.com/assets/colab-badge.svg\" alt=\"Open In Colab\"/></a>"
      ]
    },
    {
      "cell_type": "markdown",
      "metadata": {
        "id": "B7pa1MSb5wT7"
      },
      "source": [
        "# Import Libraries"
      ]
    },
    {
      "cell_type": "code",
      "execution_count": null,
      "metadata": {
        "id": "dbpU7iao5vNB"
      },
      "outputs": [],
      "source": [
        "import pandas as pd\n",
        "import matplotlib\n",
        "import matplotlib.pyplot as plt\n",
        "import seaborn as sns\n",
        "import numpy as np\n",
        "from sklearn.preprocessing import MinMaxScaler\n",
        "from sklearn.model_selection import train_test_split, GridSearchCV\n",
        "from sklearn.linear_model import LinearRegression, Lasso, Ridge\n",
        "from sklearn.metrics import mean_absolute_error, mean_squared_error, r2_score\n",
        "from sklearn.preprocessing import PolynomialFeatures\n",
        "from sklearn.svm import SVR"
      ]
    },
    {
      "cell_type": "code",
      "execution_count": null,
      "metadata": {
        "colab": {
          "base_uri": "https://localhost:8080/",
          "height": 1000
        },
        "id": "UjyCcgdn4WjM",
        "outputId": "dbbbd912-9b4b-471c-dc4c-a90489c357a4"
      },
      "outputs": [
        {
          "name": "stderr",
          "output_type": "stream",
          "text": [
            "<ipython-input-8-e83f64d6a9b0>:17: FutureWarning: A value is trying to be set on a copy of a DataFrame or Series through chained assignment using an inplace method.\n",
            "The behavior will change in pandas 3.0. This inplace method will never work because the intermediate object on which we are setting values always behaves as a copy.\n",
            "\n",
            "For example, when doing 'df[col].method(value, inplace=True)', try using 'df.method({col: value}, inplace=True)' or df[col] = df[col].method(value) instead, to perform the operation inplace on the original object.\n",
            "\n",
            "\n",
            "  mean_imputed['cylinder'].fillna(mean_imputed['cylinder'].mean(), inplace=True)\n",
            "<ipython-input-8-e83f64d6a9b0>:34: FutureWarning: A value is trying to be set on a copy of a DataFrame or Series through chained assignment using an inplace method.\n",
            "The behavior will change in pandas 3.0. This inplace method will never work because the intermediate object on which we are setting values always behaves as a copy.\n",
            "\n",
            "For example, when doing 'df[col].method(value, inplace=True)', try using 'df.method({col: value}, inplace=True)' or df[col] = df[col].method(value) instead, to perform the operation inplace on the original object.\n",
            "\n",
            "\n",
            "  pf['engine_capacity'].fillna(pf['engine_capacity'].mean(), inplace=True)\n",
            "<ipython-input-8-e83f64d6a9b0>:34: FutureWarning: Downcasting object dtype arrays on .fillna, .ffill, .bfill is deprecated and will change in a future version. Call result.infer_objects(copy=False) instead. To opt-in to the future behavior, set `pd.set_option('future.no_silent_downcasting', True)`\n",
            "  pf['engine_capacity'].fillna(pf['engine_capacity'].mean(), inplace=True)\n",
            "<ipython-input-8-e83f64d6a9b0>:49: FutureWarning: A value is trying to be set on a copy of a DataFrame or Series through chained assignment using an inplace method.\n",
            "The behavior will change in pandas 3.0. This inplace method will never work because the intermediate object on which we are setting values always behaves as a copy.\n",
            "\n",
            "For example, when doing 'df[col].method(value, inplace=True)', try using 'df.method({col: value}, inplace=True)' or df[col] = df[col].method(value) instead, to perform the operation inplace on the original object.\n",
            "\n",
            "\n",
            "  pf['horse_power'].fillna(pf['horse_power'].mean(), inplace=True)\n",
            "<ipython-input-8-e83f64d6a9b0>:49: FutureWarning: Downcasting object dtype arrays on .fillna, .ffill, .bfill is deprecated and will change in a future version. Call result.infer_objects(copy=False) instead. To opt-in to the future behavior, set `pd.set_option('future.no_silent_downcasting', True)`\n",
            "  pf['horse_power'].fillna(pf['horse_power'].mean(), inplace=True)\n",
            "<ipython-input-8-e83f64d6a9b0>:90: FutureWarning: A value is trying to be set on a copy of a DataFrame or Series through chained assignment using an inplace method.\n",
            "The behavior will change in pandas 3.0. This inplace method will never work because the intermediate object on which we are setting values always behaves as a copy.\n",
            "\n",
            "For example, when doing 'df[col].method(value, inplace=True)', try using 'df.method({col: value}, inplace=True)' or df[col] = df[col].method(value) instead, to perform the operation inplace on the original object.\n",
            "\n",
            "\n",
            "  pf['price'].fillna(pf['price'].mean(), inplace=True)\n",
            "<ipython-input-8-e83f64d6a9b0>:90: FutureWarning: Downcasting object dtype arrays on .fillna, .ffill, .bfill is deprecated and will change in a future version. Call result.infer_objects(copy=False) instead. To opt-in to the future behavior, set `pd.set_option('future.no_silent_downcasting', True)`\n",
            "  pf['price'].fillna(pf['price'].mean(), inplace=True)\n",
            "<ipython-input-8-e83f64d6a9b0>:112: FutureWarning: A value is trying to be set on a copy of a DataFrame or Series through chained assignment using an inplace method.\n",
            "The behavior will change in pandas 3.0. This inplace method will never work because the intermediate object on which we are setting values always behaves as a copy.\n",
            "\n",
            "For example, when doing 'df[col].method(value, inplace=True)', try using 'df.method({col: value}, inplace=True)' or df[col] = df[col].method(value) instead, to perform the operation inplace on the original object.\n",
            "\n",
            "\n",
            "  pf['seats'].fillna(pf['seats'].median(), inplace=True)\n",
            "<ipython-input-8-e83f64d6a9b0>:112: FutureWarning: Downcasting object dtype arrays on .fillna, .ffill, .bfill is deprecated and will change in a future version. Call result.infer_objects(copy=False) instead. To opt-in to the future behavior, set `pd.set_option('future.no_silent_downcasting', True)`\n",
            "  pf['seats'].fillna(pf['seats'].median(), inplace=True)\n",
            "<ipython-input-8-e83f64d6a9b0>:131: FutureWarning: A value is trying to be set on a copy of a DataFrame or Series through chained assignment using an inplace method.\n",
            "The behavior will change in pandas 3.0. This inplace method will never work because the intermediate object on which we are setting values always behaves as a copy.\n",
            "\n",
            "For example, when doing 'df[col].method(value, inplace=True)', try using 'df.method({col: value}, inplace=True)' or df[col] = df[col].method(value) instead, to perform the operation inplace on the original object.\n",
            "\n",
            "\n",
            "  pf['top_speed'].fillna(int(pf['top_speed'].mean()), inplace=True)#221 insted of 221.22....\n",
            "<ipython-input-8-e83f64d6a9b0>:131: FutureWarning: Downcasting object dtype arrays on .fillna, .ffill, .bfill is deprecated and will change in a future version. Call result.infer_objects(copy=False) instead. To opt-in to the future behavior, set `pd.set_option('future.no_silent_downcasting', True)`\n",
            "  pf['top_speed'].fillna(int(pf['top_speed'].mean()), inplace=True)#221 insted of 221.22....\n"
          ]
        },
        {
          "data": {
            "image/png": "[encoded data removed]",
            "text/plain": [
              "<Figure size 600x600 with 3 Axes>"
            ]
          },
          "metadata": {},
          "output_type": "display_data"
        }
      ],
      "source": [
        "pf = pd.read_csv('cars.csv') #reading csv file.\n",
        "\n",
        "# print(pf.info()) #to print general info about the csv.\n",
        "\n",
        "mean_imputed = pf.copy()\n",
        "# to clean dirty entries from cylinder column.\n",
        "\n",
        "x =mean_imputed['cylinder'].unique()\n",
        "\n",
        "for i in x:\n",
        "    if isinstance(i,float) == False: #python descirdbe nan as float.\n",
        "        if i.isnumeric() == False: #if the entry was string, replace it with null to replace it with the mean.\n",
        "            mean_imputed.replace(i,None,inplace=True)\n",
        "\n",
        "mean_imputed['cylinder'] = pd.to_numeric(mean_imputed['cylinder'], errors='coerce')\n",
        "\n",
        "mean_imputed['cylinder'].fillna(mean_imputed['cylinder'].mean(), inplace=True)\n",
        "pf= mean_imputed.copy()\n",
        "del mean_imputed\n",
        "\n",
        "#cylinder column now is clean.\n",
        "#--------------------------------------------------------------------------------------------\n",
        "\n",
        "#print(pf['engine_capacity'].unique()) #from this, i know that there is one dirty data in this column which is 'cylinder'.\n",
        "index = -1\n",
        "\n",
        "for row in pf['engine_capacity']:\n",
        "    index +=1\n",
        "    if row == 'Cylinders':\n",
        "        pf.loc[index,\"engine_capacity\"]= None\n",
        "    else:\n",
        "        pf.loc[index,\"engine_capacity\"]= round(float(row),3)\n",
        "\n",
        "pf['engine_capacity'].fillna(pf['engine_capacity'].mean(), inplace=True)\n",
        "#engine capacity done.\n",
        "#--------------------------------------------------------------------------------------------\n",
        "\n",
        "#print(pf['horse_power'].unique())\n",
        "\n",
        "index = -1\n",
        "for row in pf['horse_power']:\n",
        "    index+=1\n",
        "    if 'Single' in row or 'Double' in row or 'Triple' in row or 'Horsepower (bhp)' in row:\n",
        "\n",
        "        pf.loc[index,'horse_power']=None\n",
        "    else:\n",
        "        pf.loc[index,'horse_power']=int(row)\n",
        "\n",
        "pf['horse_power'].fillna(pf['horse_power'].mean(), inplace=True)\n",
        "\n",
        "\n",
        "\n",
        "#--------------------------------------------------------------------------------------------\n",
        "#changing all prices to USD with cleaning and filling the dirty with the mean.\n",
        "\n",
        "# print(len(pd.unique(pf['price']))) # i noticed from this, that i can't use replace(row,new) in the for loop, because there is just 3350 uniqe value from 6300.\n",
        "\n",
        "#pf.loc[1,'price']='moath' #I can use this to replace the value.\n",
        "\n",
        "#Change the prices to USD and clean the dirty entries\n",
        "index =-1\n",
        "for row in pf['price']:\n",
        "    index+=1\n",
        "    if 'SAR' in row:\n",
        "        pf.loc[index,\"price\"]=int(row[4:].replace(',','')) * 0.27\n",
        "\n",
        "    elif 'EGP' in row:\n",
        "        pf.loc[index,\"price\"]=int(row[4:].replace(',','')) * 0.02\n",
        "\n",
        "    elif 'BHD' in row:\n",
        "        pf.loc[index,\"price\"]=int(row[4:].replace(',','')) * 2.65\n",
        "\n",
        "    elif 'QAR' in row:\n",
        "        pf.loc[index,\"price\"]=int(row[4:].replace(',','')) * 0.27\n",
        "\n",
        "    elif 'OMR' in row:\n",
        "        pf.loc[index,\"price\"]=int(row[4:].replace(',','')) * 2.6\n",
        "\n",
        "    elif 'KWD' in row:\n",
        "        pf.loc[index,\"price\"]=int(row[4:].replace(',','')) * 3.25\n",
        "\n",
        "    elif 'AED' in row:\n",
        "        pf.loc[index,\"price\"]=int(row[4:].replace(',','')) * 0.27\n",
        "\n",
        "    else:\n",
        "        pf.loc[index,\"price\"]=None\n",
        "\n",
        "\n",
        "#fill the null values with the mean of the coloumn.\n",
        "pf['price'].fillna(pf['price'].mean(), inplace=True)\n",
        "\n",
        "#-------------------------------------------------------------\n",
        "#Now i need to check and clean topspeed and seats coloumns\n",
        "#if seates is bigger than 100, transfer this value to topspeed, and put None insted of it.\n",
        "# print(pf['seats'].unique())\n",
        "index = -1\n",
        "num=''\n",
        "for row in pf['seats']:\n",
        "    index +=1\n",
        "    if len(row) <= 4 and row!= 'N A':\n",
        "        if int(float(row)) > 60:\n",
        "            pf.loc[index,\"top_speed\"]=int(row)\n",
        "            pf.loc[index,\"seats\"]=None\n",
        "        elif int(float(row)) < 60:\n",
        "            pf.loc[index,\"seats\"]=None\n",
        "    elif 'Seater' in row:#if it contains 'seater' that's mean that this is a real number of seats.\n",
        "            num = row[:2]\n",
        "            pf.loc[index,\"seats\"]=int(num)\n",
        "    else:\n",
        "        pf.loc[index,\"seats\"]=None\n",
        "\n",
        "pf['seats'].fillna(pf['seats'].median(), inplace=True)\n",
        "\n",
        "#---------------------------------------------------------------------------\n",
        "#top_speed\n",
        "#this column contains string, seats, and numbers.\n",
        "#seats must be transfered to 'seats' coloumn.\n",
        "#strings must be discarded, numbers are good!!\n",
        "index = -1\n",
        "for row in pf['top_speed']:\n",
        "    index+=1\n",
        "    if 'Seater' in str(row):\n",
        "        num = row[:2]\n",
        "        pf.loc[index,\"seats\"]=int(num)\n",
        "        pf.loc[index,'top_speed']=None\n",
        "    elif str(row).isnumeric() == False:\n",
        "        pf.loc[index,'top_speed']=None\n",
        "    else:\n",
        "        pf.loc[index,'top_speed']=int(row)\n",
        "\n",
        "pf['top_speed'].fillna(int(pf['top_speed'].mean()), inplace=True)#221 insted of 221.22....\n",
        "\n",
        "#----------------------------------------------------------------------------------\n",
        "\n",
        "#hot encoding to country and brand, and normalize the price to\n",
        "# print(pf['brand'].unique())\n",
        "one_hot_encoded = pd.get_dummies(pf, columns=['country','brand'])\n",
        "pf = one_hot_encoded.copy()\n",
        "del one_hot_encoded\n",
        "\n",
        "# frequency-encode the car name feature, since one-hot encoding results in high dimensional sparse feature space\n",
        "freq_encoding = pf['car name'].value_counts() / len(pf)\n",
        "pf['car name'] = pf['car name'].map(freq_encoding)\n",
        "\n",
        "#normalize the price, horsepower, and top_speed from 0 to 10\n",
        "\n",
        "pf[['engine_capacity', 'cylinder', 'horse_power', 'top_speed', 'seats']] = MinMaxScaler(feature_range=(0, 10)).fit_transform(pf[['engine_capacity', 'cylinder', 'horse_power', 'top_speed', 'seats']])\n",
        "# pd.set_option('display.max_columns', None)\n",
        "# pd.set_option('display.max_rows', None)\n",
        "# print(pf.head(10))\n",
        "\n",
        "sns.jointplot(x=\"top_speed\", y='price',data=pf)\n",
        "\n",
        "# sns.regplot(x='horse_power',y='price',data=pf,scatter_kws={'alpha' : 0.3})\n",
        "plt.show()"
      ]
    },
    {
      "cell_type": "code",
      "execution_count": null,
      "metadata": {
        "colab": {
          "base_uri": "https://localhost:8080/"
        },
        "id": "4QFBobmcw_2C",
        "outputId": "7cdcbaac-ac71-4f3d-bfc9-ccacaa12c298"
      },
      "outputs": [
        {
          "name": "stdout",
          "output_type": "stream",
          "text": [
            "number of features: 96\n",
            "number of NaN values: 0\n"
          ]
        }
      ],
      "source": [
        "pf = pf.apply(pd.to_numeric, errors='coerce')\n",
        "print(f\"number of features: {len(pf.columns)}\")\n",
        "print(f\"number of NaN values: {pf.isna().sum().sum()}\")"
      ]
    },
    {
      "cell_type": "code",
      "execution_count": null,
      "metadata": {
        "colab": {
          "base_uri": "https://localhost:8080/"
        },
        "id": "3sEDg1HxrKvB",
        "outputId": "d7256130-25e6-45e1-ad35-5a840c26de8c"
      },
      "outputs": [
        {
          "name": "stderr",
          "output_type": "stream",
          "text": [
            "<ipython-input-16-d1a2bb8993b4>:2: FutureWarning: DataFrame.applymap has been deprecated. Use DataFrame.map instead.\n",
            "  non_numeric_count = pf.applymap(lambda x: not pd.api.types.is_numeric_dtype(type(x))).sum().sum()\n"
          ]
        },
        {
          "name": "stdout",
          "output_type": "stream",
          "text": [
            "Number of non-numeric values: 0\n"
          ]
        }
      ],
      "source": [
        "# Count non-numeric values\n",
        "non_numeric_count = pf.applymap(lambda x: not pd.api.types.is_numeric_dtype(type(x))).sum().sum()\n",
        "\n",
        "print(f\"Number of non-numeric values: {non_numeric_count}\")"
      ]
    },
    {
      "cell_type": "markdown",
      "metadata": {
        "id": "VXNZylz4E-f9"
      },
      "source": [
        "# Splitting the Dataset"
      ]
    },
    {
      "cell_type": "code",
      "execution_count": null,
      "metadata": {
        "id": "80pmj3FP5mMK"
      },
      "outputs": [],
      "source": [
        "# Split the dataset to training, validation and test sets\n",
        "\n",
        "X = pf.drop('price', axis=1)\n",
        "y = pf['price']\n",
        "\n",
        "X = X.to_numpy(dtype=np.float32)\n",
        "y = y.to_numpy(dtype=np.float32)\n",
        "\n",
        "# First split the data set to 80/20\n",
        "X_train, X_test, y_train, y_test = train_test_split(X, y, test_size=0.2)\n",
        "# Then split the the 80% part to 60/20\n",
        "X_train, X_val, y_train, y_val = train_test_split(X_train, y_train, test_size=0.25)\n",
        "\n",
        "\n"
      ]
    },
    {
      "cell_type": "markdown",
      "metadata": {
        "id": "XEImi-hh5hvi"
      },
      "source": [
        "# Building Regression Models\n",
        "Implementation of linear and nonlinear regression models"
      ]
    },
    {
      "cell_type": "code",
      "execution_count": null,
      "metadata": {
        "id": "US3_rMyar-Y_"
      },
      "outputs": [],
      "source": [
        "# Linear Regression by solving linear equations\n",
        "# pinv is used because it is a singular matrix\n",
        "w = np.linalg.pinv(X_train.T.dot(X_train)).dot(X_train.T).dot(y_train)\n",
        "w = w.reshape(-1, 1)\n",
        "y_pred = X_val.dot(w)\n"
      ]
    },
    {
      "cell_type": "code",
      "execution_count": null,
      "metadata": {
        "colab": {
          "background_save": true,
          "base_uri": "https://localhost:8080/"
        },
        "id": "ogGQPe-sFxQV",
        "outputId": "4d51a844-cfb4-43fd-b61b-f2b2db61ee0b"
      },
      "outputs": [
        {
          "name": "stdout",
          "output_type": "stream",
          "text": [
            "Iteration 0: Error = 14131235443.58683\n",
            "Iteration 100: Error = 7327267847.44936\n",
            "Iteration 200: Error = 5973189078.760804\n",
            "Iteration 300: Error = 4902470084.050488\n",
            "Iteration 400: Error = 4055465768.6897554\n",
            "Iteration 500: Error = 3385093524.597312\n",
            "Iteration 600: Error = 2854187106.15675\n",
            "Iteration 700: Error = 2433407883.7057266\n",
            "Iteration 800: Error = 2099596068.8252382\n",
            "Iteration 900: Error = 1834469235.9647856\n"
          ]
        },
        {
          "name": "stderr",
          "output_type": "stream",
          "text": [
            "WARNING:matplotlib.legend:No artists with labels found to put in legend.  Note that artists whose label start with an underscore are ignored when legend() is called with no argument.\n"
          ]
        },
        {
          "data": {
            "image/png": "[encoded data removed]",
            "text/plain": [
              "<Figure size 1000x600 with 1 Axes>"
            ]
          },
          "metadata": {},
          "output_type": "display_data"
        }
      ],
      "source": [
        "\n",
        "# Using Gradient Descent\n",
        "learning_rate = 0.01\n",
        "num_iterations = 1000\n",
        "errors = []\n",
        "W = np.random.randn(X_train.shape[1], 1) * 0.01  # Initialize W randomly\n",
        "b = np.random.randn(1, 1) * 0.01  # Initialize b randomly\n",
        "for i in range(num_iterations):\n",
        "    # TODO: compute errors\n",
        "    y_pred = np.matmul(X_train, W) + b\n",
        "    difference = y - y_pred\n",
        "\n",
        "    # TODO: compute steps\n",
        "    W = W + learning_rate * np.matmul(X_train.T, difference) / X_train.size\n",
        "    b = b + learning_rate * np.sum(difference) / X_train.size\n",
        "\n",
        "    errors.append(np.mean(difference**2))\n",
        "    if i % 100 == 0:\n",
        "        print(f\"Iteration {i}: Error = {errors[-1]}\")\n",
        "\n",
        "plt.figure(figsize=(10, 6))\n",
        "plt.plot(range(num_iterations), errors)\n",
        "plt.xlabel('Iteration')\n",
        "plt.ylabel('Error')\n",
        "plt.title('Gradient Descent Error')\n",
        "plt.legend()\n",
        "plt.show()\n",
        "\n",
        "\n",
        "\n",
        "\n",
        "# Feature Selection with Forward Selection Use a forward selection method to iteratively\n",
        "# add features to the model, selecting features that improve model performance. The forward\n",
        "# selection process will:\n",
        "# o Start with an empty model and gradually add features one at a time.\n",
        "# o At each step, add the feature that, when included, minimizes the error on the\n",
        "# validation set.\n",
        "# o Stop once additional features no longer improve the model performance or a\n",
        "# maximum number of features is reached.\n"
      ]
    },
    {
      "cell_type": "code",
      "execution_count": null,
      "metadata": {
        "id": "orLK8xEEsAPz"
      },
      "outputs": [],
      "source": [
        "# Polynomial Regression\n",
        "for i in range(2, 11):\n",
        "    poly = PolynomialFeatures(degree=i)\n",
        "    # don't use fit_transform on validation and test sets to prevent data leakage\n",
        "    X_train_poly = poly.fit_transform(X_train)\n",
        "    X_val_poly = poly.transform(X_val)\n",
        "    X_test_poly = poly.transform(X_test)\n",
        "    PolyRegression = LinearRegression()\n",
        "    PolyRegression.fit(X_train_poly, y_train)\n",
        "    y_pred = PolyRegression.predict(X_test_poly)"
      ]
    },
    {
      "cell_type": "code",
      "execution_count": null,
      "metadata": {
        "id": "Qh1iwxZCsByV"
      },
      "outputs": [],
      "source": [
        "\n",
        "# Standard Gaussian Kernel (RBF)\n",
        "\n",
        "rbf = SVR(kernel='rbf')\n",
        "rbf.fit(X_train, y_train)\n",
        "y_pred = rbf.predict(X_val)"
      ]
    },
    {
      "cell_type": "markdown",
      "metadata": {
        "id": "EMyY3Jhf8wXV"
      },
      "source": [
        "# Applying Regularization\n"
      ]
    },
    {
      "cell_type": "code",
      "execution_count": null,
      "metadata": {
        "id": "XKJa2m8X634K"
      },
      "outputs": [],
      "source": [
        "# apply grid search to lasso and ridge reguralization techniques\n",
        "lasso = Lasso()\n",
        "parameters = {'alpha': [0.1, 0.5, 1, 5, 10]}\n",
        "lasso_regressor = GridSearchCV(lasso, parameters, scoring='neg_mean_squared_error', cv=5)\n",
        "lasso_regressor.fit(X_val, y_val)\n",
        "lasso_regressor = lasso_regressor.best_estimator_\n",
        "\n",
        "ridge = Ridge()\n",
        "parameters = {'alpha': [0.1, 0.5, 1, 5, 10]}\n",
        "ridge_regressor = GridSearchCV(ridge, parameters, scoring='neg_mean_squared_error', cv=5)\n",
        "ridge_regressor.fit(X_val, y_val)\n",
        "ridge_regressor = ridge_regressor.best_estimator_\n",
        "\n",
        "# fit the best model to the training data\n",
        "lasso_regressor.fit(X_train, y_train)\n",
        "ridge_regressor.fit(X_train, y_train)\n"
      ]
    },
    {
      "cell_type": "markdown",
      "metadata": {
        "id": "wyl3_EwqC55V"
      },
      "source": [
        "# Model Evaluation"
      ]
    },
    {
      "cell_type": "code",
      "execution_count": null,
      "metadata": {
        "colab": {
          "base_uri": "https://localhost:8080/",
          "height": 110
        },
        "id": "4X87b_YBC8gb",
        "outputId": "148b10bc-0973-4047-b312-7fcb9e665488"
      },
      "outputs": [
        {
          "ename": "SyntaxError",
          "evalue": "':' expected after dictionary key (<ipython-input-13-fadabea5559b>, line 9)",
          "output_type": "error",
          "traceback": [
            "\u001b[0;36m  File \u001b[0;32m\"<ipython-input-13-fadabea5559b>\"\u001b[0;36m, line \u001b[0;32m9\u001b[0m\n\u001b[0;31m    scores = {'MAE': [], 'MSE', 'R'}\u001b[0m\n\u001b[0m                             ^\u001b[0m\n\u001b[0;31mSyntaxError\u001b[0m\u001b[0;31m:\u001b[0m ':' expected after dictionary key\n"
          ]
        }
      ],
      "source": [
        "models = [lasso_regressor, ridge_regressor]\n",
        "model_names = ['Lasso', 'Ridge']\n",
        "predictions = []\n",
        "\n",
        "for model in models:\n",
        "    y_pred = model.predict(X_test)\n",
        "    predictions.append(y_pred)\n",
        "\n",
        "scores = {'MAE': [], 'MSE': [], 'R_squared': []}\n",
        "\n",
        "for i in range(len(models)):\n",
        "    scores['MAE'].append(mean_absolute_error(y_test, predictions[i]))\n",
        "    scores['MSE'].append(mean_squared_error(y_test, predictions[i]))\n",
        "    scores['R_squared'].append(r2_score(y_test, predictions[i]))\n",
        "\n",
        "# Print the scores\n",
        "print(\"Scores:\")\n",
        "for i in range(len(models)):\n",
        "    print(f\"{model_names[i]}:\")\n",
        "    print(f\"  MAE: {scores['MAE'][i]}\")\n",
        "    print(f\"  MSE: {scores['MSE'][i]}\")\n",
        "    print(f\"  R-squared: {scores['R_squared'][i]}\\n\")\n",
        "\n"
      ]
    },
    {
      "cell_type": "code",
      "execution_count": null,
      "metadata": {
        "id": "uygE7r2kEZm3"
      },
      "outputs": [],
      "source": []
    }
  ],
  "metadata": {
    "colab": {
      "provenance": [],
      "authorship_tag": "ABX9TyM4DI/WAV0TZiQ6ICdxZscE",
      "include_colab_link": true
    },
    "kernelspec": {
      "display_name": "Python 3",
      "name": "python3"
    },
    "language_info": {
      "name": "python"
    }
  },
  "nbformat": 4,
  "nbformat_minor": 0
}